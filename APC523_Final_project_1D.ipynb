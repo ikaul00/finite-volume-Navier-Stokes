{
  "nbformat": 4,
  "nbformat_minor": 0,
  "metadata": {
    "colab": {
      "name": "APC523_Final_project_1D.ipynb",
      "provenance": []
    },
    "kernelspec": {
      "name": "python3",
      "display_name": "Python 3"
    },
    "language_info": {
      "name": "python"
    }
  },
  "cells": [
    {
      "cell_type": "code",
      "metadata": {
        "id": "QSuQUiJSmPwZ",
        "colab": {
          "base_uri": "https://localhost:8080/"
        },
        "outputId": "7cee5e6f-b274-4d58-8d55-d17eba3d4c50"
      },
      "source": [
        "# Import Statements\n",
        "import numpy as np\n",
        "import matplotlib.pyplot as plt\n",
        "from math import log, exp, log10, copysign\n",
        "from scipy.fft import fft, ifft\n",
        "import time, sys, os              # and load some utilities\n",
        "print('Python version', sys.version)"
      ],
      "execution_count": 1,
      "outputs": [
        {
          "output_type": "stream",
          "text": [
            "Python version 3.7.10 (default, May  3 2021, 02:48:31) \n",
            "[GCC 7.5.0]\n"
          ],
          "name": "stdout"
        }
      ]
    },
    {
      "cell_type": "code",
      "metadata": {
        "id": "3KEZiaQlyCk6"
      },
      "source": [
        "# use higher resolution svg graphics instead of png:\n",
        "from IPython.display import set_matplotlib_formats\n",
        "# set_matplotlib_formats('svg', 'pdf')\n",
        "set_matplotlib_formats('svg')\n",
        "\n",
        "# adjust plotting style defaults:\n",
        "\n",
        "# default figure size okay if notebook is zoomed for class presentation:\n",
        "# plt.rcParams[\"figure.figsize\"] = [6.4, 4.8] # default\n",
        "plt.rcParams[\"figure.figsize\"] = [8.0, 6.0]\n",
        "plt.rcParams['font.size'] = 14  # default is about 12.\n",
        "plt.rcParams['legend.fontsize'] = 'medium'\n",
        "plt.rcParams['figure.titlesize'] = 'medium'"
      ],
      "execution_count": 2,
      "outputs": []
    },
    {
      "cell_type": "code",
      "metadata": {
        "id": "qKNDkSU_KTjC"
      },
      "source": [
        "global n_ghost\n",
        "n_ghost = 3"
      ],
      "execution_count": 3,
      "outputs": []
    },
    {
      "cell_type": "code",
      "metadata": {
        "id": "WysQB8vvfYj8"
      },
      "source": [
        "def velocity(x_mesh):\n",
        "  # grad(psi) cross z^ is v, for now return 1\n",
        "  # psi = y => v = 1*x^\n",
        "  return np.ones(len(x_mesh))"
      ],
      "execution_count": 4,
      "outputs": []
    },
    {
      "cell_type": "code",
      "metadata": {
        "id": "CvFO9-jxoDN8"
      },
      "source": [
        "# Returns a single time step FV method over the entire spatial grid\n",
        "def finite_vol(omega, v, dx, dt):\n",
        "  C4 = 1\n",
        "  viscosity = 0.005\n",
        "  vplushalf = (1/2)*(v[n_ghost:-n_ghost]+v[n_ghost+1:-n_ghost+1])\n",
        "  vminushalf = (1/2)*(v[n_ghost-1:-n_ghost-1]+v[n_ghost:-n_ghost])\n",
        "\n",
        "  omegaplushalf = (7/12)*(omega[n_ghost+1:-n_ghost+1]+omega[n_ghost:-n_ghost]) - (1/12)*(omega[n_ghost-1:-n_ghost-1]+omega[n_ghost+2:-n_ghost+2])\n",
        "  omegaminushalf = (7/12)*(omega[n_ghost:-n_ghost]+omega[n_ghost-1:-n_ghost-1]) - (1/12)*(omega[n_ghost-2:-n_ghost-2]+omega[n_ghost+1:-n_ghost+1])\n",
        "  \n",
        "  Fplushalf = vplushalf*omegaplushalf - (C4*np.abs(vplushalf)*dx/48)*((3/12)*(omega[n_ghost+1:-n_ghost+1]-omega[n_ghost:-n_ghost]) - (1/12)*(omega[n_ghost+2:-n_ghost+2]-omega[n_ghost-1:-n_ghost-1]))\n",
        "  Fminushalf = vminushalf*omegaminushalf - (C4*np.abs(vminushalf)*dx/48)*((3/12)*(omega[n_ghost:-n_ghost]-omega[n_ghost-1:-n_ghost-1]) - (1/12)*(omega[n_ghost+1:-n_ghost+1]-omega[n_ghost-2:-n_ghost-2]))\n",
        "  \n",
        "  second_der = (1/(dx**2))*(omega[n_ghost+1:-n_ghost+1]-2*omega[n_ghost:-n_ghost]+omega[n_ghost-1:-n_ghost-1])\n",
        "\n",
        "  # CHECK DIMENSIONS\n",
        "  \n",
        "  sol = dt*viscosity*second_der - (dt/dx)*(Fplushalf - Fminushalf)\n",
        "  \n",
        "  return sol"
      ],
      "execution_count": 43,
      "outputs": []
    },
    {
      "cell_type": "code",
      "metadata": {
        "id": "fTnc-lGwf7rl"
      },
      "source": [
        "# Returns 3rd order Runge-Kutta full time advance\n",
        "def RK3_full_advance(f, omega, v, dx, dt, t_end):\n",
        "  t = 0.0\n",
        "  omega0 = np.zeros(len(omega))\n",
        "  omega1 = np.zeros(len(omega))\n",
        "  omega2 = np.zeros(len(omega))\n",
        "  omega_sol = omega\n",
        "  \n",
        "  while t <t_end:\n",
        "    \n",
        "    omega0 = omega_sol\n",
        "    omega1[n_ghost:-n_ghost] = omega0[n_ghost:-n_ghost] + finite_vol(omega0, v, dx,dt)\n",
        "    # B.C.\n",
        "    for i in range(n_ghost):\n",
        "      omega1[i] = omega1[-2*n_ghost+i]\n",
        "      omega1[-n_ghost+i] = omega1[n_ghost+i]\n",
        "\n",
        "    omega2[n_ghost:-n_ghost] = (3/4)*omega0[n_ghost:-n_ghost] + omega1[n_ghost:-n_ghost]/4 + (1/4)*finite_vol(omega1,v,dx,dt)\n",
        "    # BC\n",
        "    for i in range(n_ghost):\n",
        "      omega2[i] = omega2[-2*n_ghost+i]\n",
        "      omega2[-n_ghost+i] = omega2[n_ghost+i]\n",
        "\n",
        "    omega_sol[n_ghost:-n_ghost] = omega0[n_ghost:-n_ghost]/3 + 2*omega2[n_ghost:-n_ghost]/3 + (2/3)*finite_vol(omega2,v,dx,dt)\n",
        "    # BC\n",
        "    for i in range(n_ghost):\n",
        "      omega_sol[i] = omega_sol[-2*n_ghost+i]\n",
        "      omega_sol[-n_ghost+i] = omega_sol[n_ghost+i]\n",
        "    t = t+dt\n",
        "  \n",
        "  return omega_sol"
      ],
      "execution_count": 44,
      "outputs": []
    },
    {
      "cell_type": "code",
      "metadata": {
        "id": "wiphfsABB5Ek"
      },
      "source": [
        "# space grid\n",
        "dx = 0.001\n",
        "x_mesh = np.arange(-1,1+dx,dx)\n",
        "\n",
        "# Append 3 Ghost cells on either side\n",
        "x_mesh = np.append(x_mesh, 1+dx)\n",
        "x_mesh = np.append(x_mesh, 1+2*dx)\n",
        "x_mesh = np.append(x_mesh, 1+3*dx)\n",
        "x_mesh = np.insert(x_mesh, 0, -1-dx)\n",
        "x_mesh = np.insert(x_mesh, 0, -1-2*dx)\n",
        "x_mesh = np.insert(x_mesh, 0, -1-3*dx)\n",
        "\n",
        "\n",
        "v=1\n",
        "cfl = 0.1\n",
        "\n",
        "# time params\n",
        "dt = cfl*dx/v\n",
        "t_end = 2.006\n",
        "\n",
        "omega_initial = np.zeros(len(x_mesh))\n",
        "omega_initial = 0.5*np.exp(-np.square(x_mesh-0.5)/0.03)\n",
        "for i in range (len(omega_initial)):\n",
        "  if x_mesh[i]<-0.35 and x_mesh[i]>-0.7:\n",
        "    omega_initial[i] = 0.5\n",
        "\n",
        "sol = RK3_full_advance(finite_vol, omega_initial, velocity(x_mesh), dx, dt, t_end)"
      ],
      "execution_count": 45,
      "outputs": []
    },
    {
      "cell_type": "code",
      "metadata": {
        "colab": {
          "base_uri": "https://localhost:8080/",
          "height": 526
        },
        "id": "MsyRTWJ3s1Xc",
        "outputId": "3207d3f9-15de-40f8-bf59-d3f88a8e9d30"
      },
      "source": [
        "omega_initial = np.zeros(len(x_mesh))\n",
        "omega_initial = 0.5*np.exp(-np.square(x_mesh-0.5)/0.03)\n",
        "for i in range (len(omega_initial)):\n",
        "  if x_mesh[i]<-0.35 and x_mesh[i]>-0.7:\n",
        "    omega_initial[i] = 0.5\n",
        "\n",
        "\n",
        "plt.plot(x_mesh, omega_initial, label = \"Initial\")\n",
        "plt.plot(x_mesh, sol, label = \"t=2\")\n",
        "plt.legend()\n",
        "plt.xlabel(\"x\")\n",
        "plt.ylabel(\"$\\omega$\")\n",
        "plt.savefig(\"1D_new_t=2_nu=0.005_dx=0.001.pdf\")\n",
        "plt.show()"
      ],
      "execution_count": 47,
      "outputs": [
        {
          "output_type": "display_data",
          "data": {
            "text/plain": [
              "<Figure size 576x432 with 1 Axes>"
            ],
            "image/svg+xml": "<?xml version=\"1.0\" encoding=\"utf-8\" standalone=\"no\"?>\n<!DOCTYPE svg PUBLIC \"-//W3C//DTD SVG 1.1//EN\"\n  \"http://www.w3.org/Graphics/SVG/1.1/DTD/svg11.dtd\">\n<!-- Created with matplotlib (https://matplotlib.org/) -->\n<svg height=\"378.65875pt\" version=\"1.1\" viewBox=\"0 0 507.61375 378.65875\" width=\"507.61375pt\" xmlns=\"http://www.w3.org/2000/svg\" xmlns:xlink=\"http://www.w3.org/1999/xlink\">\n <defs>\n  <style type=\"text/css\">\n*{stroke-linecap:butt;stroke-linejoin:round;}\n  </style>\n </defs>\n <g id=\"figure_1\">\n  <g id=\"patch_1\">\n   <path d=\"M 0 378.65875 \nL 507.61375 378.65875 \nL 507.61375 0 \nL 0 0 \nz\n\" style=\"fill:none;\"/>\n  </g>\n  <g id=\"axes_1\">\n   <g id=\"patch_2\">\n    <path d=\"M 54.01375 333.36 \nL 500.41375 333.36 \nL 500.41375 7.2 \nL 54.01375 7.2 \nz\n\" style=\"fill:#ffffff;\"/>\n   </g>\n   <g id=\"matplotlib.axis_1\">\n    <g id=\"xtick_1\">\n     <g id=\"line2d_1\">\n      <defs>\n       <path d=\"M 0 0 \nL 0 3.5 \n\" id=\"me2d70f8232\" style=\"stroke:#000000;stroke-width:0.8;\"/>\n      </defs>\n      <g>\n       <use style=\"stroke:#000000;stroke-width:0.8;\" x=\"74.911566\" xlink:href=\"#me2d70f8232\" y=\"333.36\"/>\n      </g>\n     </g>\n     <g id=\"text_1\">\n      <!-- −1.00 -->\n      <defs>\n       <path d=\"M 10.59375 35.5 \nL 73.1875 35.5 \nL 73.1875 27.203125 \nL 10.59375 27.203125 \nz\n\" id=\"DejaVuSans-8722\"/>\n       <path d=\"M 12.40625 8.296875 \nL 28.515625 8.296875 \nL 28.515625 63.921875 \nL 10.984375 60.40625 \nL 10.984375 69.390625 \nL 28.421875 72.90625 \nL 38.28125 72.90625 \nL 38.28125 8.296875 \nL 54.390625 8.296875 \nL 54.390625 0 \nL 12.40625 0 \nz\n\" id=\"DejaVuSans-49\"/>\n       <path d=\"M 10.6875 12.40625 \nL 21 12.40625 \nL 21 0 \nL 10.6875 0 \nz\n\" id=\"DejaVuSans-46\"/>\n       <path d=\"M 31.78125 66.40625 \nQ 24.171875 66.40625 20.328125 58.90625 \nQ 16.5 51.421875 16.5 36.375 \nQ 16.5 21.390625 20.328125 13.890625 \nQ 24.171875 6.390625 31.78125 6.390625 \nQ 39.453125 6.390625 43.28125 13.890625 \nQ 47.125 21.390625 47.125 36.375 \nQ 47.125 51.421875 43.28125 58.90625 \nQ 39.453125 66.40625 31.78125 66.40625 \nz\nM 31.78125 74.21875 \nQ 44.046875 74.21875 50.515625 64.515625 \nQ 56.984375 54.828125 56.984375 36.375 \nQ 56.984375 17.96875 50.515625 8.265625 \nQ 44.046875 -1.421875 31.78125 -1.421875 \nQ 19.53125 -1.421875 13.0625 8.265625 \nQ 6.59375 17.96875 6.59375 36.375 \nQ 6.59375 54.828125 13.0625 64.515625 \nQ 19.53125 74.21875 31.78125 74.21875 \nz\n\" id=\"DejaVuSans-48\"/>\n      </defs>\n      <g transform=\"translate(53.459847 350.997813)scale(0.14 -0.14)\">\n       <use xlink:href=\"#DejaVuSans-8722\"/>\n       <use x=\"83.789062\" xlink:href=\"#DejaVuSans-49\"/>\n       <use x=\"147.412109\" xlink:href=\"#DejaVuSans-46\"/>\n       <use x=\"179.199219\" xlink:href=\"#DejaVuSans-48\"/>\n       <use x=\"242.822266\" xlink:href=\"#DejaVuSans-48\"/>\n      </g>\n     </g>\n    </g>\n    <g id=\"xtick_2\">\n     <g id=\"line2d_2\">\n      <g>\n       <use style=\"stroke:#000000;stroke-width:0.8;\" x=\"125.487112\" xlink:href=\"#me2d70f8232\" y=\"333.36\"/>\n      </g>\n     </g>\n     <g id=\"text_2\">\n      <!-- −0.75 -->\n      <defs>\n       <path d=\"M 8.203125 72.90625 \nL 55.078125 72.90625 \nL 55.078125 68.703125 \nL 28.609375 0 \nL 18.3125 0 \nL 43.21875 64.59375 \nL 8.203125 64.59375 \nz\n\" id=\"DejaVuSans-55\"/>\n       <path d=\"M 10.796875 72.90625 \nL 49.515625 72.90625 \nL 49.515625 64.59375 \nL 19.828125 64.59375 \nL 19.828125 46.734375 \nQ 21.96875 47.46875 24.109375 47.828125 \nQ 26.265625 48.1875 28.421875 48.1875 \nQ 40.625 48.1875 47.75 41.5 \nQ 54.890625 34.8125 54.890625 23.390625 \nQ 54.890625 11.625 47.5625 5.09375 \nQ 40.234375 -1.421875 26.90625 -1.421875 \nQ 22.3125 -1.421875 17.546875 -0.640625 \nQ 12.796875 0.140625 7.71875 1.703125 \nL 7.71875 11.625 \nQ 12.109375 9.234375 16.796875 8.0625 \nQ 21.484375 6.890625 26.703125 6.890625 \nQ 35.15625 6.890625 40.078125 11.328125 \nQ 45.015625 15.765625 45.015625 23.390625 \nQ 45.015625 31 40.078125 35.4375 \nQ 35.15625 39.890625 26.703125 39.890625 \nQ 22.75 39.890625 18.8125 39.015625 \nQ 14.890625 38.140625 10.796875 36.28125 \nz\n\" id=\"DejaVuSans-53\"/>\n      </defs>\n      <g transform=\"translate(104.035393 350.997813)scale(0.14 -0.14)\">\n       <use xlink:href=\"#DejaVuSans-8722\"/>\n       <use x=\"83.789062\" xlink:href=\"#DejaVuSans-48\"/>\n       <use x=\"147.412109\" xlink:href=\"#DejaVuSans-46\"/>\n       <use x=\"179.199219\" xlink:href=\"#DejaVuSans-55\"/>\n       <use x=\"242.822266\" xlink:href=\"#DejaVuSans-53\"/>\n      </g>\n     </g>\n    </g>\n    <g id=\"xtick_3\">\n     <g id=\"line2d_3\">\n      <g>\n       <use style=\"stroke:#000000;stroke-width:0.8;\" x=\"176.062658\" xlink:href=\"#me2d70f8232\" y=\"333.36\"/>\n      </g>\n     </g>\n     <g id=\"text_3\">\n      <!-- −0.50 -->\n      <g transform=\"translate(154.610939 350.997813)scale(0.14 -0.14)\">\n       <use xlink:href=\"#DejaVuSans-8722\"/>\n       <use x=\"83.789062\" xlink:href=\"#DejaVuSans-48\"/>\n       <use x=\"147.412109\" xlink:href=\"#DejaVuSans-46\"/>\n       <use x=\"179.199219\" xlink:href=\"#DejaVuSans-53\"/>\n       <use x=\"242.822266\" xlink:href=\"#DejaVuSans-48\"/>\n      </g>\n     </g>\n    </g>\n    <g id=\"xtick_4\">\n     <g id=\"line2d_4\">\n      <g>\n       <use style=\"stroke:#000000;stroke-width:0.8;\" x=\"226.638204\" xlink:href=\"#me2d70f8232\" y=\"333.36\"/>\n      </g>\n     </g>\n     <g id=\"text_4\">\n      <!-- −0.25 -->\n      <defs>\n       <path d=\"M 19.1875 8.296875 \nL 53.609375 8.296875 \nL 53.609375 0 \nL 7.328125 0 \nL 7.328125 8.296875 \nQ 12.9375 14.109375 22.625 23.890625 \nQ 32.328125 33.6875 34.8125 36.53125 \nQ 39.546875 41.84375 41.421875 45.53125 \nQ 43.3125 49.21875 43.3125 52.78125 \nQ 43.3125 58.59375 39.234375 62.25 \nQ 35.15625 65.921875 28.609375 65.921875 \nQ 23.96875 65.921875 18.8125 64.3125 \nQ 13.671875 62.703125 7.8125 59.421875 \nL 7.8125 69.390625 \nQ 13.765625 71.78125 18.9375 73 \nQ 24.125 74.21875 28.421875 74.21875 \nQ 39.75 74.21875 46.484375 68.546875 \nQ 53.21875 62.890625 53.21875 53.421875 \nQ 53.21875 48.921875 51.53125 44.890625 \nQ 49.859375 40.875 45.40625 35.40625 \nQ 44.1875 33.984375 37.640625 27.21875 \nQ 31.109375 20.453125 19.1875 8.296875 \nz\n\" id=\"DejaVuSans-50\"/>\n      </defs>\n      <g transform=\"translate(205.186485 350.997813)scale(0.14 -0.14)\">\n       <use xlink:href=\"#DejaVuSans-8722\"/>\n       <use x=\"83.789062\" xlink:href=\"#DejaVuSans-48\"/>\n       <use x=\"147.412109\" xlink:href=\"#DejaVuSans-46\"/>\n       <use x=\"179.199219\" xlink:href=\"#DejaVuSans-50\"/>\n       <use x=\"242.822266\" xlink:href=\"#DejaVuSans-53\"/>\n      </g>\n     </g>\n    </g>\n    <g id=\"xtick_5\">\n     <g id=\"line2d_5\">\n      <g>\n       <use style=\"stroke:#000000;stroke-width:0.8;\" x=\"277.21375\" xlink:href=\"#me2d70f8232\" y=\"333.36\"/>\n      </g>\n     </g>\n     <g id=\"text_5\">\n      <!-- 0.00 -->\n      <g transform=\"translate(261.627813 350.997813)scale(0.14 -0.14)\">\n       <use xlink:href=\"#DejaVuSans-48\"/>\n       <use x=\"63.623047\" xlink:href=\"#DejaVuSans-46\"/>\n       <use x=\"95.410156\" xlink:href=\"#DejaVuSans-48\"/>\n       <use x=\"159.033203\" xlink:href=\"#DejaVuSans-48\"/>\n      </g>\n     </g>\n    </g>\n    <g id=\"xtick_6\">\n     <g id=\"line2d_6\">\n      <g>\n       <use style=\"stroke:#000000;stroke-width:0.8;\" x=\"327.789296\" xlink:href=\"#me2d70f8232\" y=\"333.36\"/>\n      </g>\n     </g>\n     <g id=\"text_6\">\n      <!-- 0.25 -->\n      <g transform=\"translate(312.203359 350.997813)scale(0.14 -0.14)\">\n       <use xlink:href=\"#DejaVuSans-48\"/>\n       <use x=\"63.623047\" xlink:href=\"#DejaVuSans-46\"/>\n       <use x=\"95.410156\" xlink:href=\"#DejaVuSans-50\"/>\n       <use x=\"159.033203\" xlink:href=\"#DejaVuSans-53\"/>\n      </g>\n     </g>\n    </g>\n    <g id=\"xtick_7\">\n     <g id=\"line2d_7\">\n      <g>\n       <use style=\"stroke:#000000;stroke-width:0.8;\" x=\"378.364842\" xlink:href=\"#me2d70f8232\" y=\"333.36\"/>\n      </g>\n     </g>\n     <g id=\"text_7\">\n      <!-- 0.50 -->\n      <g transform=\"translate(362.778905 350.997813)scale(0.14 -0.14)\">\n       <use xlink:href=\"#DejaVuSans-48\"/>\n       <use x=\"63.623047\" xlink:href=\"#DejaVuSans-46\"/>\n       <use x=\"95.410156\" xlink:href=\"#DejaVuSans-53\"/>\n       <use x=\"159.033203\" xlink:href=\"#DejaVuSans-48\"/>\n      </g>\n     </g>\n    </g>\n    <g id=\"xtick_8\">\n     <g id=\"line2d_8\">\n      <g>\n       <use style=\"stroke:#000000;stroke-width:0.8;\" x=\"428.940388\" xlink:href=\"#me2d70f8232\" y=\"333.36\"/>\n      </g>\n     </g>\n     <g id=\"text_8\">\n      <!-- 0.75 -->\n      <g transform=\"translate(413.354451 350.997813)scale(0.14 -0.14)\">\n       <use xlink:href=\"#DejaVuSans-48\"/>\n       <use x=\"63.623047\" xlink:href=\"#DejaVuSans-46\"/>\n       <use x=\"95.410156\" xlink:href=\"#DejaVuSans-55\"/>\n       <use x=\"159.033203\" xlink:href=\"#DejaVuSans-53\"/>\n      </g>\n     </g>\n    </g>\n    <g id=\"xtick_9\">\n     <g id=\"line2d_9\">\n      <g>\n       <use style=\"stroke:#000000;stroke-width:0.8;\" x=\"479.515934\" xlink:href=\"#me2d70f8232\" y=\"333.36\"/>\n      </g>\n     </g>\n     <g id=\"text_9\">\n      <!-- 1.00 -->\n      <g transform=\"translate(463.929997 350.997813)scale(0.14 -0.14)\">\n       <use xlink:href=\"#DejaVuSans-49\"/>\n       <use x=\"63.623047\" xlink:href=\"#DejaVuSans-46\"/>\n       <use x=\"95.410156\" xlink:href=\"#DejaVuSans-48\"/>\n       <use x=\"159.033203\" xlink:href=\"#DejaVuSans-48\"/>\n      </g>\n     </g>\n    </g>\n    <g id=\"text_10\">\n     <!-- x -->\n     <defs>\n      <path d=\"M 54.890625 54.6875 \nL 35.109375 28.078125 \nL 55.90625 0 \nL 45.3125 0 \nL 29.390625 21.484375 \nL 13.484375 0 \nL 2.875 0 \nL 24.125 28.609375 \nL 4.6875 54.6875 \nL 15.28125 54.6875 \nL 29.78125 35.203125 \nL 44.28125 54.6875 \nz\n\" id=\"DejaVuSans-120\"/>\n     </defs>\n     <g transform=\"translate(273.070625 368.547188)scale(0.14 -0.14)\">\n      <use xlink:href=\"#DejaVuSans-120\"/>\n     </g>\n    </g>\n   </g>\n   <g id=\"matplotlib.axis_2\">\n    <g id=\"ytick_1\">\n     <g id=\"line2d_10\">\n      <defs>\n       <path d=\"M 0 0 \nL -3.5 0 \n\" id=\"m81ec4a03d1\" style=\"stroke:#000000;stroke-width:0.8;\"/>\n      </defs>\n      <g>\n       <use style=\"stroke:#000000;stroke-width:0.8;\" x=\"54.01375\" xlink:href=\"#m81ec4a03d1\" y=\"318.534545\"/>\n      </g>\n     </g>\n     <g id=\"text_11\">\n      <!-- 0.0 -->\n      <g transform=\"translate(24.749375 323.853452)scale(0.14 -0.14)\">\n       <use xlink:href=\"#DejaVuSans-48\"/>\n       <use x=\"63.623047\" xlink:href=\"#DejaVuSans-46\"/>\n       <use x=\"95.410156\" xlink:href=\"#DejaVuSans-48\"/>\n      </g>\n     </g>\n    </g>\n    <g id=\"ytick_2\">\n     <g id=\"line2d_11\">\n      <g>\n       <use style=\"stroke:#000000;stroke-width:0.8;\" x=\"54.01375\" xlink:href=\"#m81ec4a03d1\" y=\"259.232727\"/>\n      </g>\n     </g>\n     <g id=\"text_12\">\n      <!-- 0.1 -->\n      <g transform=\"translate(24.749375 264.551634)scale(0.14 -0.14)\">\n       <use xlink:href=\"#DejaVuSans-48\"/>\n       <use x=\"63.623047\" xlink:href=\"#DejaVuSans-46\"/>\n       <use x=\"95.410156\" xlink:href=\"#DejaVuSans-49\"/>\n      </g>\n     </g>\n    </g>\n    <g id=\"ytick_3\">\n     <g id=\"line2d_12\">\n      <g>\n       <use style=\"stroke:#000000;stroke-width:0.8;\" x=\"54.01375\" xlink:href=\"#m81ec4a03d1\" y=\"199.930909\"/>\n      </g>\n     </g>\n     <g id=\"text_13\">\n      <!-- 0.2 -->\n      <g transform=\"translate(24.749375 205.249815)scale(0.14 -0.14)\">\n       <use xlink:href=\"#DejaVuSans-48\"/>\n       <use x=\"63.623047\" xlink:href=\"#DejaVuSans-46\"/>\n       <use x=\"95.410156\" xlink:href=\"#DejaVuSans-50\"/>\n      </g>\n     </g>\n    </g>\n    <g id=\"ytick_4\">\n     <g id=\"line2d_13\">\n      <g>\n       <use style=\"stroke:#000000;stroke-width:0.8;\" x=\"54.01375\" xlink:href=\"#m81ec4a03d1\" y=\"140.629091\"/>\n      </g>\n     </g>\n     <g id=\"text_14\">\n      <!-- 0.3 -->\n      <defs>\n       <path d=\"M 40.578125 39.3125 \nQ 47.65625 37.796875 51.625 33 \nQ 55.609375 28.21875 55.609375 21.1875 \nQ 55.609375 10.40625 48.1875 4.484375 \nQ 40.765625 -1.421875 27.09375 -1.421875 \nQ 22.515625 -1.421875 17.65625 -0.515625 \nQ 12.796875 0.390625 7.625 2.203125 \nL 7.625 11.71875 \nQ 11.71875 9.328125 16.59375 8.109375 \nQ 21.484375 6.890625 26.8125 6.890625 \nQ 36.078125 6.890625 40.9375 10.546875 \nQ 45.796875 14.203125 45.796875 21.1875 \nQ 45.796875 27.640625 41.28125 31.265625 \nQ 36.765625 34.90625 28.71875 34.90625 \nL 20.21875 34.90625 \nL 20.21875 43.015625 \nL 29.109375 43.015625 \nQ 36.375 43.015625 40.234375 45.921875 \nQ 44.09375 48.828125 44.09375 54.296875 \nQ 44.09375 59.90625 40.109375 62.90625 \nQ 36.140625 65.921875 28.71875 65.921875 \nQ 24.65625 65.921875 20.015625 65.03125 \nQ 15.375 64.15625 9.8125 62.3125 \nL 9.8125 71.09375 \nQ 15.4375 72.65625 20.34375 73.4375 \nQ 25.25 74.21875 29.59375 74.21875 \nQ 40.828125 74.21875 47.359375 69.109375 \nQ 53.90625 64.015625 53.90625 55.328125 \nQ 53.90625 49.265625 50.4375 45.09375 \nQ 46.96875 40.921875 40.578125 39.3125 \nz\n\" id=\"DejaVuSans-51\"/>\n      </defs>\n      <g transform=\"translate(24.749375 145.947997)scale(0.14 -0.14)\">\n       <use xlink:href=\"#DejaVuSans-48\"/>\n       <use x=\"63.623047\" xlink:href=\"#DejaVuSans-46\"/>\n       <use x=\"95.410156\" xlink:href=\"#DejaVuSans-51\"/>\n      </g>\n     </g>\n    </g>\n    <g id=\"ytick_5\">\n     <g id=\"line2d_14\">\n      <g>\n       <use style=\"stroke:#000000;stroke-width:0.8;\" x=\"54.01375\" xlink:href=\"#m81ec4a03d1\" y=\"81.327273\"/>\n      </g>\n     </g>\n     <g id=\"text_15\">\n      <!-- 0.4 -->\n      <defs>\n       <path d=\"M 37.796875 64.3125 \nL 12.890625 25.390625 \nL 37.796875 25.390625 \nz\nM 35.203125 72.90625 \nL 47.609375 72.90625 \nL 47.609375 25.390625 \nL 58.015625 25.390625 \nL 58.015625 17.1875 \nL 47.609375 17.1875 \nL 47.609375 0 \nL 37.796875 0 \nL 37.796875 17.1875 \nL 4.890625 17.1875 \nL 4.890625 26.703125 \nz\n\" id=\"DejaVuSans-52\"/>\n      </defs>\n      <g transform=\"translate(24.749375 86.646179)scale(0.14 -0.14)\">\n       <use xlink:href=\"#DejaVuSans-48\"/>\n       <use x=\"63.623047\" xlink:href=\"#DejaVuSans-46\"/>\n       <use x=\"95.410156\" xlink:href=\"#DejaVuSans-52\"/>\n      </g>\n     </g>\n    </g>\n    <g id=\"ytick_6\">\n     <g id=\"line2d_15\">\n      <g>\n       <use style=\"stroke:#000000;stroke-width:0.8;\" x=\"54.01375\" xlink:href=\"#m81ec4a03d1\" y=\"22.025455\"/>\n      </g>\n     </g>\n     <g id=\"text_16\">\n      <!-- 0.5 -->\n      <g transform=\"translate(24.749375 27.344361)scale(0.14 -0.14)\">\n       <use xlink:href=\"#DejaVuSans-48\"/>\n       <use x=\"63.623047\" xlink:href=\"#DejaVuSans-46\"/>\n       <use x=\"95.410156\" xlink:href=\"#DejaVuSans-53\"/>\n      </g>\n     </g>\n    </g>\n    <g id=\"text_17\">\n     <!-- $\\omega$ -->\n     <defs>\n      <path d=\"M 21.390625 -1.421875 \nQ 1.125 -1.421875 6.78125 27.59375 \nQ 8.984375 39.0625 19.625 54.6875 \nL 29.296875 54.6875 \nQ 19.234375 39.0625 17 27.34375 \nQ 12.796875 6.203125 23.734375 6.203125 \nQ 33.84375 6.203125 38.71875 32.46875 \nL 47.015625 32.46875 \nQ 41.703125 6.0625 51.8125 6.203125 \nQ 62.703125 6.296875 66.796875 27.34375 \nQ 69.046875 39.0625 65.140625 54.6875 \nL 74.8125 54.6875 \nQ 79.296875 39.0625 77.09375 27.59375 \nQ 71.53125 -1.46875 51.21875 -1.421875 \nQ 37.9375 -1.375 39.109375 13.1875 \nQ 34.28125 -1.421875 21.390625 -1.421875 \nz\n\" id=\"DejaVuSans-Oblique-969\"/>\n     </defs>\n     <g transform=\"translate(17.837812 176.16)rotate(-90)scale(0.14 -0.14)\">\n      <use transform=\"translate(0 0.3125)\" xlink:href=\"#DejaVuSans-Oblique-969\"/>\n     </g>\n    </g>\n   </g>\n   <g id=\"line2d_16\">\n    <path clip-path=\"url(#pda8cd0afae)\" d=\"M 74.304659 318.534545 \nL 135.399919 318.534545 \nL 135.602221 22.025455 \nL 206.205683 22.025455 \nL 206.407985 318.534545 \nL 279.843678 318.425234 \nL 287.328859 318.187369 \nL 292.386414 317.814726 \nL 296.230155 317.316138 \nL 299.46699 316.671751 \nL 302.096919 315.937318 \nL 304.524545 315.039856 \nL 306.749869 313.98568 \nL 308.772891 312.794056 \nL 310.795913 311.338407 \nL 312.616632 309.765355 \nL 314.437352 307.905987 \nL 316.258072 305.721747 \nL 318.078791 303.171814 \nL 319.899511 300.213608 \nL 321.720231 296.803443 \nL 323.54095 292.897342 \nL 325.36167 288.452017 \nL 327.18239 283.426001 \nL 329.003109 277.780931 \nL 331.026131 270.741608 \nL 333.049153 262.858803 \nL 335.072175 254.106789 \nL 337.297499 243.462779 \nL 339.725125 230.648192 \nL 342.152751 216.629185 \nL 344.984982 198.8837 \nL 348.221817 177.070648 \nL 352.672465 145.33497 \nL 359.348437 97.671116 \nL 362.38297 77.715803 \nL 364.810596 63.233212 \nL 366.833618 52.459637 \nL 368.654337 43.944874 \nL 370.272755 37.424969 \nL 371.68887 32.595723 \nL 372.902683 29.143787 \nL 374.116496 26.352258 \nL 375.128007 24.544901 \nL 376.139518 23.218966 \nL 376.948727 22.509357 \nL 377.757936 22.114394 \nL 378.364842 22.025455 \nL 378.971749 22.114394 \nL 379.578655 22.381052 \nL 380.387864 23.012173 \nL 381.197073 23.956333 \nL 382.006281 25.210522 \nL 383.017792 27.20807 \nL 384.029303 29.673851 \nL 385.243116 33.233608 \nL 386.659232 38.182941 \nL 388.075347 43.944874 \nL 389.693765 51.455532 \nL 391.514484 60.976646 \nL 393.537506 72.719875 \nL 395.965132 88.143542 \nL 398.999665 108.918421 \nL 404.259522 146.800927 \nL 409.317076 182.653766 \nL 412.553911 204.095246 \nL 415.386142 221.431001 \nL 418.01607 236.137915 \nL 420.443697 248.433021 \nL 422.669021 258.592518 \nL 424.894345 267.691439 \nL 426.917366 275.064248 \nL 428.940388 281.614873 \nL 430.96341 287.386717 \nL 432.78413 291.957589 \nL 434.604849 295.979821 \nL 436.425569 299.496401 \nL 438.246289 302.551244 \nL 440.067008 305.188174 \nL 441.887728 307.450081 \nL 443.708448 309.378224 \nL 445.529167 311.011699 \nL 447.552189 312.525428 \nL 449.575211 313.766461 \nL 451.800535 314.866064 \nL 454.228161 315.803791 \nL 456.85809 316.572584 \nL 459.892622 317.213472 \nL 463.33176 317.705866 \nL 467.580105 318.080983 \nL 473.244567 318.340557 \nL 480.122841 318.470075 \nL 480.122841 318.470075 \n\" style=\"fill:none;stroke:#1f77b4;stroke-linecap:square;stroke-width:1.5;\"/>\n   </g>\n   <g id=\"line2d_17\">\n    <path clip-path=\"url(#pda8cd0afae)\" d=\"M 74.304659 308.044257 \nL 76.327681 307.994764 \nL 78.350703 307.715655 \nL 80.373725 307.199684 \nL 82.396746 306.438235 \nL 84.419768 305.421461 \nL 86.44279 304.138457 \nL 88.465812 302.577482 \nL 90.488834 300.726224 \nL 92.511856 298.572115 \nL 94.534878 296.102665 \nL 96.760202 293.007724 \nL 98.985526 289.501917 \nL 101.21085 285.572419 \nL 103.436174 281.209036 \nL 105.8638 275.946171 \nL 108.291426 270.155374 \nL 110.921354 263.29004 \nL 113.753585 255.224007 \nL 116.788118 245.843732 \nL 120.024953 235.062954 \nL 123.666392 222.101129 \nL 127.914738 206.103204 \nL 134.388408 180.714859 \nL 141.468984 153.180628 \nL 145.312726 139.094524 \nL 148.549561 128.042109 \nL 151.381791 119.148278 \nL 153.809418 112.203079 \nL 156.034742 106.452634 \nL 158.057763 101.780623 \nL 160.080785 97.67332 \nL 161.901505 94.484584 \nL 163.519922 92.070115 \nL 165.13834 90.062796 \nL 166.554455 88.647854 \nL 167.97057 87.556991 \nL 169.184384 86.882917 \nL 170.398197 86.45163 \nL 171.61201 86.264272 \nL 172.825823 86.32134 \nL 174.039636 86.622684 \nL 175.253449 87.167507 \nL 176.467262 87.954369 \nL 177.883377 89.175474 \nL 179.299493 90.71877 \nL 180.715608 92.5787 \nL 182.334026 95.083409 \nL 183.952443 97.981123 \nL 185.773163 101.693787 \nL 187.796185 106.355124 \nL 190.021509 112.094763 \nL 192.449135 119.029432 \nL 195.079063 127.252433 \nL 198.113596 137.53008 \nL 201.552733 150.000303 \nL 206.003381 167.037057 \nL 220.366836 222.748362 \nL 224.210578 236.393366 \nL 227.447413 247.118251 \nL 230.481945 256.446376 \nL 233.314176 264.46831 \nL 235.944104 271.300411 \nL 238.574033 277.527781 \nL 241.001659 282.739327 \nL 243.429285 287.442649 \nL 245.856911 291.650473 \nL 248.082235 295.087147 \nL 250.307559 298.138121 \nL 252.532884 300.821335 \nL 254.758208 303.155922 \nL 256.983532 305.161565 \nL 259.208856 306.857911 \nL 261.43418 308.264036 \nL 263.659504 309.397979 \nL 265.884828 310.276336 \nL 268.110152 310.913933 \nL 270.335476 311.323568 \nL 272.5608 311.515824 \nL 274.786124 311.49895 \nL 277.21375 311.24885 \nL 279.641376 310.761168 \nL 282.069002 310.036998 \nL 284.496629 309.074335 \nL 286.924255 307.868331 \nL 289.351881 306.411622 \nL 291.779507 304.694707 \nL 294.207133 302.706387 \nL 296.63476 300.434253 \nL 299.062386 297.865205 \nL 301.490012 294.986015 \nL 304.119941 291.50212 \nL 306.749869 287.624483 \nL 309.379797 283.340714 \nL 312.009726 278.641748 \nL 314.841956 273.111565 \nL 317.674187 267.094992 \nL 320.70872 260.119008 \nL 323.945555 252.099154 \nL 327.384692 242.971962 \nL 331.228433 232.123912 \nL 335.881383 218.276707 \nL 343.568866 194.535217 \nL 349.637932 176.086628 \nL 353.481674 165.058616 \nL 356.718508 156.412194 \nL 359.550739 149.463605 \nL 361.978365 144.049193 \nL 364.203689 139.580629 \nL 366.226711 135.96664 \nL 368.249733 132.810143 \nL 370.070453 130.382055 \nL 371.68887 128.565917 \nL 373.307288 127.082047 \nL 374.723403 126.06258 \nL 376.139518 125.307921 \nL 377.555633 124.821222 \nL 378.769447 124.618899 \nL 379.98326 124.615581 \nL 381.197073 124.811278 \nL 382.410886 125.205388 \nL 383.827001 125.914305 \nL 385.243116 126.888649 \nL 386.659232 128.124363 \nL 388.277649 129.850029 \nL 389.896067 131.901047 \nL 391.716786 134.58361 \nL 393.739808 138.008849 \nL 395.76283 141.87489 \nL 397.988154 146.599308 \nL 400.41578 152.264956 \nL 403.248011 159.467186 \nL 406.484846 168.348611 \nL 410.328587 179.577411 \nL 415.790746 196.289158 \nL 425.501251 226.058715 \nL 429.951899 238.924333 \nL 433.795641 249.35189 \nL 437.234778 258.040023 \nL 440.471613 265.60583 \nL 443.506146 272.129755 \nL 446.338376 277.707762 \nL 449.170607 282.787649 \nL 451.800535 287.060207 \nL 454.430463 290.910184 \nL 456.85809 294.095875 \nL 459.285716 296.935982 \nL 461.713342 299.438683 \nL 464.140968 301.612037 \nL 466.366292 303.321231 \nL 468.591616 304.764534 \nL 470.81694 305.945368 \nL 473.042264 306.865595 \nL 475.065286 307.476107 \nL 477.088308 307.869935 \nL 479.11133 308.044257 \nL 480.122841 308.047815 \nL 480.122841 308.047815 \n\" style=\"fill:none;stroke:#ff7f0e;stroke-linecap:square;stroke-width:1.5;\"/>\n   </g>\n   <g id=\"patch_3\">\n    <path d=\"M 54.01375 333.36 \nL 54.01375 7.2 \n\" style=\"fill:none;stroke:#000000;stroke-linecap:square;stroke-linejoin:miter;stroke-width:0.8;\"/>\n   </g>\n   <g id=\"patch_4\">\n    <path d=\"M 500.41375 333.36 \nL 500.41375 7.2 \n\" style=\"fill:none;stroke:#000000;stroke-linecap:square;stroke-linejoin:miter;stroke-width:0.8;\"/>\n   </g>\n   <g id=\"patch_5\">\n    <path d=\"M 54.01375 333.36 \nL 500.41375 333.36 \n\" style=\"fill:none;stroke:#000000;stroke-linecap:square;stroke-linejoin:miter;stroke-width:0.8;\"/>\n   </g>\n   <g id=\"patch_6\">\n    <path d=\"M 54.01375 7.2 \nL 500.41375 7.2 \n\" style=\"fill:none;stroke:#000000;stroke-linecap:square;stroke-linejoin:miter;stroke-width:0.8;\"/>\n   </g>\n   <g id=\"legend_1\">\n    <g id=\"patch_7\">\n     <path d=\"M 407.075312 59.49875 \nL 490.61375 59.49875 \nQ 493.41375 59.49875 493.41375 56.69875 \nL 493.41375 17 \nQ 493.41375 14.2 490.61375 14.2 \nL 407.075312 14.2 \nQ 404.275312 14.2 404.275312 17 \nL 404.275312 56.69875 \nQ 404.275312 59.49875 407.075312 59.49875 \nz\n\" style=\"fill:#ffffff;opacity:0.8;stroke:#cccccc;stroke-linejoin:miter;\"/>\n    </g>\n    <g id=\"line2d_18\">\n     <path d=\"M 409.875313 25.537812 \nL 437.875313 25.537812 \n\" style=\"fill:none;stroke:#1f77b4;stroke-linecap:square;stroke-width:1.5;\"/>\n    </g>\n    <g id=\"line2d_19\"/>\n    <g id=\"text_18\">\n     <!-- Initial -->\n     <defs>\n      <path d=\"M 9.8125 72.90625 \nL 19.671875 72.90625 \nL 19.671875 0 \nL 9.8125 0 \nz\n\" id=\"DejaVuSans-73\"/>\n      <path d=\"M 54.890625 33.015625 \nL 54.890625 0 \nL 45.90625 0 \nL 45.90625 32.71875 \nQ 45.90625 40.484375 42.875 44.328125 \nQ 39.84375 48.1875 33.796875 48.1875 \nQ 26.515625 48.1875 22.3125 43.546875 \nQ 18.109375 38.921875 18.109375 30.90625 \nL 18.109375 0 \nL 9.078125 0 \nL 9.078125 54.6875 \nL 18.109375 54.6875 \nL 18.109375 46.1875 \nQ 21.34375 51.125 25.703125 53.5625 \nQ 30.078125 56 35.796875 56 \nQ 45.21875 56 50.046875 50.171875 \nQ 54.890625 44.34375 54.890625 33.015625 \nz\n\" id=\"DejaVuSans-110\"/>\n      <path d=\"M 9.421875 54.6875 \nL 18.40625 54.6875 \nL 18.40625 0 \nL 9.421875 0 \nz\nM 9.421875 75.984375 \nL 18.40625 75.984375 \nL 18.40625 64.59375 \nL 9.421875 64.59375 \nz\n\" id=\"DejaVuSans-105\"/>\n      <path d=\"M 18.3125 70.21875 \nL 18.3125 54.6875 \nL 36.8125 54.6875 \nL 36.8125 47.703125 \nL 18.3125 47.703125 \nL 18.3125 18.015625 \nQ 18.3125 11.328125 20.140625 9.421875 \nQ 21.96875 7.515625 27.59375 7.515625 \nL 36.8125 7.515625 \nL 36.8125 0 \nL 27.59375 0 \nQ 17.1875 0 13.234375 3.875 \nQ 9.28125 7.765625 9.28125 18.015625 \nL 9.28125 47.703125 \nL 2.6875 47.703125 \nL 2.6875 54.6875 \nL 9.28125 54.6875 \nL 9.28125 70.21875 \nz\n\" id=\"DejaVuSans-116\"/>\n      <path d=\"M 34.28125 27.484375 \nQ 23.390625 27.484375 19.1875 25 \nQ 14.984375 22.515625 14.984375 16.5 \nQ 14.984375 11.71875 18.140625 8.90625 \nQ 21.296875 6.109375 26.703125 6.109375 \nQ 34.1875 6.109375 38.703125 11.40625 \nQ 43.21875 16.703125 43.21875 25.484375 \nL 43.21875 27.484375 \nz\nM 52.203125 31.203125 \nL 52.203125 0 \nL 43.21875 0 \nL 43.21875 8.296875 \nQ 40.140625 3.328125 35.546875 0.953125 \nQ 30.953125 -1.421875 24.3125 -1.421875 \nQ 15.921875 -1.421875 10.953125 3.296875 \nQ 6 8.015625 6 15.921875 \nQ 6 25.140625 12.171875 29.828125 \nQ 18.359375 34.515625 30.609375 34.515625 \nL 43.21875 34.515625 \nL 43.21875 35.40625 \nQ 43.21875 41.609375 39.140625 45 \nQ 35.0625 48.390625 27.6875 48.390625 \nQ 23 48.390625 18.546875 47.265625 \nQ 14.109375 46.140625 10.015625 43.890625 \nL 10.015625 52.203125 \nQ 14.9375 54.109375 19.578125 55.046875 \nQ 24.21875 56 28.609375 56 \nQ 40.484375 56 46.34375 49.84375 \nQ 52.203125 43.703125 52.203125 31.203125 \nz\n\" id=\"DejaVuSans-97\"/>\n      <path d=\"M 9.421875 75.984375 \nL 18.40625 75.984375 \nL 18.40625 0 \nL 9.421875 0 \nz\n\" id=\"DejaVuSans-108\"/>\n     </defs>\n     <g transform=\"translate(449.075312 30.437812)scale(0.14 -0.14)\">\n      <use xlink:href=\"#DejaVuSans-73\"/>\n      <use x=\"29.492188\" xlink:href=\"#DejaVuSans-110\"/>\n      <use x=\"92.871094\" xlink:href=\"#DejaVuSans-105\"/>\n      <use x=\"120.654297\" xlink:href=\"#DejaVuSans-116\"/>\n      <use x=\"159.863281\" xlink:href=\"#DejaVuSans-105\"/>\n      <use x=\"187.646484\" xlink:href=\"#DejaVuSans-97\"/>\n      <use x=\"248.925781\" xlink:href=\"#DejaVuSans-108\"/>\n     </g>\n    </g>\n    <g id=\"line2d_20\">\n     <path d=\"M 409.875313 46.087187 \nL 437.875313 46.087187 \n\" style=\"fill:none;stroke:#ff7f0e;stroke-linecap:square;stroke-width:1.5;\"/>\n    </g>\n    <g id=\"line2d_21\"/>\n    <g id=\"text_19\">\n     <!-- t=2 -->\n     <defs>\n      <path d=\"M 10.59375 45.40625 \nL 73.1875 45.40625 \nL 73.1875 37.203125 \nL 10.59375 37.203125 \nz\nM 10.59375 25.484375 \nL 73.1875 25.484375 \nL 73.1875 17.1875 \nL 10.59375 17.1875 \nz\n\" id=\"DejaVuSans-61\"/>\n     </defs>\n     <g transform=\"translate(449.075312 50.987187)scale(0.14 -0.14)\">\n      <use xlink:href=\"#DejaVuSans-116\"/>\n      <use x=\"39.208984\" xlink:href=\"#DejaVuSans-61\"/>\n      <use x=\"122.998047\" xlink:href=\"#DejaVuSans-50\"/>\n     </g>\n    </g>\n   </g>\n  </g>\n </g>\n <defs>\n  <clipPath id=\"pda8cd0afae\">\n   <rect height=\"326.16\" width=\"446.4\" x=\"54.01375\" y=\"7.2\"/>\n  </clipPath>\n </defs>\n</svg>\n"
          },
          "metadata": {
            "tags": [],
            "needs_background": "light"
          }
        }
      ]
    },
    {
      "cell_type": "code",
      "metadata": {
        "id": "nx0bx7Uq3YCS"
      },
      "source": [
        ""
      ],
      "execution_count": 8,
      "outputs": []
    }
  ]
}